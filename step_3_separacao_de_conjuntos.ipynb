{
  "nbformat": 4,
  "nbformat_minor": 0,
  "metadata": {
    "colab": {
      "provenance": [],
      "authorship_tag": "ABX9TyNRQzwdplb0GrTaOG1yss5P",
      "include_colab_link": true
    },
    "kernelspec": {
      "name": "python3",
      "display_name": "Python 3"
    },
    "language_info": {
      "name": "python"
    }
  },
  "cells": [
    {
      "cell_type": "markdown",
      "metadata": {
        "id": "view-in-github",
        "colab_type": "text"
      },
      "source": [
        "<a href=\"https://colab.research.google.com/github/IsabellaAGomes/redundancy_identification/blob/main/step_3_separacao_de_conjuntos.ipynb\" target=\"_parent\"><img src=\"https://colab.research.google.com/assets/colab-badge.svg\" alt=\"Open In Colab\"/></a>"
      ]
    },
    {
      "cell_type": "code",
      "execution_count": null,
      "metadata": {
        "colab": {
          "base_uri": "https://localhost:8080/"
        },
        "id": "w-HGfWg-gsck",
        "outputId": "79cbdc60-c00c-452a-825b-123304fda913"
      },
      "outputs": [
        {
          "output_type": "stream",
          "name": "stdout",
          "text": [
            "/bin/bash: line 1: nvidia-smi: command not found\n"
          ]
        }
      ],
      "source": [
        "input_file_name = \"assin2-pos.xml\"\n",
        "output_training_file_name = \"assin2-trv1-pos.xml\"\n",
        "output_testing_file_name = \"assin2-t1-pos.xml\"\n",
        "output_training_undersamplingA_file_name = \"assin2-trv1-pos_undersampling_A.xml\"\n",
        "output_training_undersamplingB_file_name = \"assin2-trv1-pos_undersampling_B.xml\"\n",
        "output_training_oversamplingA_file_name = \"assin2-trv1-pos_oversampling_A.xml\"\n",
        "output_training_oversamplingB_file_name = \"assin2-trv1-pos_oversampling_B.xml\"\n"
      ]
    },
    {
      "cell_type": "code",
      "source": [
        "gpu_info = !nvidia-smi\n",
        "gpu_info = '\\n'.join(gpu_info)\n",
        "if gpu_info.find('failed') >= 0:\n",
        "  print('Not connected to a GPU')\n",
        "else:\n",
        "  print(gpu_info)"
      ],
      "metadata": {
        "id": "97MF7sBISPOr"
      },
      "execution_count": null,
      "outputs": []
    },
    {
      "cell_type": "code",
      "source": [
        "from psutil import virtual_memory\n",
        "ram_gb = virtual_memory().total / 1e9\n",
        "print('Your runtime has {:.1f} gigabytes of available RAM\\n'.format(ram_gb))\n",
        "\n",
        "if ram_gb < 20:\n",
        "  print('Not using a high-RAM runtime')\n",
        "else:\n",
        "  print('You are using a high-RAM runtime!')"
      ],
      "metadata": {
        "colab": {
          "base_uri": "https://localhost:8080/"
        },
        "id": "3fwmadJMgzD4",
        "outputId": "a87f0430-8084-47b1-ce33-e8c91634619e"
      },
      "execution_count": null,
      "outputs": [
        {
          "output_type": "stream",
          "name": "stdout",
          "text": [
            "Your runtime has 13.6 gigabytes of available RAM\n",
            "\n",
            "Not using a high-RAM runtime\n"
          ]
        }
      ]
    },
    {
      "cell_type": "code",
      "source": [
        "!python --version ou !python -V"
      ],
      "metadata": {
        "colab": {
          "base_uri": "https://localhost:8080/"
        },
        "id": "IisxRMbzg1VT",
        "outputId": "c0f10d0f-dcc4-464a-f6a1-cf5ba264e26d"
      },
      "execution_count": null,
      "outputs": [
        {
          "output_type": "stream",
          "name": "stdout",
          "text": [
            "Python 3.10.12\n"
          ]
        }
      ]
    },
    {
      "cell_type": "code",
      "source": [
        "#Importando bibliotecas padrões + módulos de classificação da bibloteca do Bert, módulo de tokenização e módulo de pipeline\n",
        "import pandas as pd\n",
        "import numpy as np\n",
        "print(np.__version__)\n",
        "print(pd.__version__)"
      ],
      "metadata": {
        "colab": {
          "base_uri": "https://localhost:8080/"
        },
        "id": "9AEFbrV-g5gE",
        "outputId": "0bd98abd-ff1a-436f-b947-e749610a1b08"
      },
      "execution_count": null,
      "outputs": [
        {
          "output_type": "stream",
          "name": "stdout",
          "text": [
            "1.25.2\n",
            "1.5.3\n"
          ]
        }
      ]
    },
    {
      "cell_type": "code",
      "source": [
        "df = pd.read_xml(input_file_name)\n",
        "\n",
        "df['redundancy'] = np.where(df['similarity'] < 4, 0, 1)"
      ],
      "metadata": {
        "id": "Hd8uvn7LhS6X"
      },
      "execution_count": null,
      "outputs": []
    },
    {
      "cell_type": "code",
      "source": [
        "df_classe_0 = df.loc[df['redundancy'] == 0]\n",
        "df_classe_1 = df.loc[df['redundancy'] == 1]\n",
        "\n",
        "#Divisão do conjunto de forma aleatória (random_state = 25) separando 80% do modelo para treino e o restante para teste\n",
        "training_classe_0_df = df_classe_0.sample(frac=0.8, random_state=25)\n",
        "testing_classe_0_df = df_classe_0.drop(training_classe_0_df.index)\n",
        "training_classe_1_df = df_classe_1.sample(frac=0.8, random_state=25)\n",
        "testing_classe_1_df = df_classe_1.drop(training_classe_1_df.index)\n",
        "\n",
        "#Juntando os conjuntos de classe 0 e 1\n",
        "frames_training = [training_classe_0_df, training_classe_1_df]\n",
        "training_df = pd.concat(frames_training)\n",
        "training_df = training_df.sample(frac = 1)\n",
        "#n = np.sum(len(df.columns) for df in frames_training)\n",
        "#training_df = pd.concat(frames_training, axis=1).iloc[:, random.sample(range(n), n)]\n",
        "\n",
        "frames_testing = [testing_classe_0_df, testing_classe_1_df]\n",
        "testing_df = pd.concat(frames_testing)\n",
        "testing_df = testing_df.sample(frac = 1)\n",
        "#n = np.sum(len(df.columns) for df in frames_testing)\n",
        "#esting_df = pd.concat(frames_testing, axis=1).iloc[:, random.sample(range(n), n)]\n"
      ],
      "metadata": {
        "id": "zjPG7liKOwve"
      },
      "execution_count": null,
      "outputs": []
    },
    {
      "cell_type": "code",
      "source": [
        "#A - Undersampling para o ASSIN (3505)\n",
        "# Classe 0 = 1577 (45%)\n",
        "# Classe 1 = 1928 (55%)\n",
        "training_classe_0_df_undersampling_A = training_classe_0_df.sample(frac=0.26, random_state=25)\n",
        "frames_training = [training_classe_0_df_undersampling_A, training_classe_1_df]\n",
        "training_df_undersampling_A = pd.concat(frames_training)\n",
        "training_df_undersampling_A = training_df_undersampling_A.sample(frac = 1)\n",
        "\n",
        "#B - Undersampling para o ASSIN (5508)\n",
        "# Classe 0 = 3580 (65%)\n",
        "# Classe 1 = 1928 (35%)\n",
        "training_classe_0_df_undersampling_B = training_classe_0_df.sample(frac=0.59, random_state=25)\n",
        "frames_training = [training_classe_0_df_undersampling_B, training_classe_1_df]\n",
        "training_df_undersampling_B = pd.concat(frames_training)\n",
        "training_df_undersampling_B = training_df_undersampling_B.sample(frac = 1)\n",
        "\n",
        "\n",
        "#A - Oversampling para o ASSIN (13493)\n",
        "# Classe 0 = 6072 (45%)\n",
        "# Classe 1 = 7421 (55%)\n",
        "training_classe_1_df_copy_A = training_classe_1_df\n",
        "training_classe_1_df_copy_B = training_classe_1_df\n",
        "training_classe_1_df_oversampling_A = training_classe_1_df.sample(frac=0.85, random_state=25)\n",
        "frames_training = [training_classe_0_df, training_classe_1_df, training_classe_1_df_copy_A, training_classe_1_df_copy_B, training_classe_1_df_oversampling_A]\n",
        "training_df_oversampling_A = pd.concat(frames_training)\n",
        "training_df_oversampling_A = training_df_oversampling_A.sample(frac = 1)\n",
        "\n",
        "\n",
        "#B - Oversampling para o ASSIN (9341)\n",
        "# Classe 0 = 6072 (65%)\n",
        "# Classe 1 = 3269 (35%)\n",
        "training_classe_1_df_oversampling_B = training_classe_1_df.sample(frac=0.7, random_state=25)\n",
        "frames_training = [training_classe_0_df, training_classe_1_df, training_classe_1_df_oversampling_B]\n",
        "training_df_oversampling_B = pd.concat(frames_training)\n",
        "training_df_oversampling_B = training_df_oversampling_B.sample(frac = 1)\n",
        "\n"
      ],
      "metadata": {
        "id": "yrFAXKqzPnuO"
      },
      "execution_count": null,
      "outputs": []
    },
    {
      "cell_type": "code",
      "source": [
        "#### UNDERSAMPLING E OVERSAMPLING C FORAM DESCARTADOS PORQUE COM O B JÁ É POSSÍVEL OBTER BONS RESULTADOS.\n",
        "\n",
        "#C - Undersampling para o ASSIN (4284)\n",
        "# Classe 0 = 2356 (55%)\n",
        "# Classe 1 = 1928 (45%)\n",
        "#training_classe_0_df_undersampling_C = training_classe_0_df.sample(frac=0.39, random_state=25)\n",
        "#frames_training = [training_classe_0_df_undersampling_C, training_classe_1_df]\n",
        "#training_df_undersampling_C = pd.concat(frames_training)\n",
        "#training_df_undersampling_C = training_df_undersampling_C.sample(frac = 1)\n",
        "\n",
        "#C - Oversampling para o ASSIN (11040)\n",
        "# Classe 0 = 6072 (55%)\n",
        "# Classe 1 = 4968 (45%)\n",
        "#training_classe_1_df_copy_A = training_classe_1_df\n",
        "#training_classe_1_df_oversampling_C = training_classe_1_df.sample(frac=0.58, random_state=25)\n",
        "#frames_training = [training_classe_0_df, training_classe_1_df, training_classe_1_df_copy_A, training_classe_1_df_oversampling_C]\n",
        "#training_df_oversampling_C = pd.concat(frames_training)\n",
        "#training_df_oversampling_C = training_df_oversampling_C.sample(frac = 1)\n"
      ],
      "metadata": {
        "id": "POhZwPO6wlc-"
      },
      "execution_count": null,
      "outputs": []
    },
    {
      "cell_type": "code",
      "source": [
        "#Divisão do conjunto de forma aleatória (random_state = 25) separando 80% do modelo para treino e o restante para teste\n",
        "#training_df = df.sample(frac=0.8, random_state=25).reset_index(drop=True)\n",
        "#testing_df = df.drop(training_df.index).reset_index(drop=True)"
      ],
      "metadata": {
        "id": "M4B5Gq4ambMh"
      },
      "execution_count": null,
      "outputs": []
    },
    {
      "cell_type": "code",
      "source": [
        "training_df_undersampling_A.to_xml(output_training_undersamplingA_file_name)\n",
        "training_df_undersampling_B.to_xml(output_training_undersamplingB_file_name)\n",
        "#training_df_undersampling_C.to_xml('assin-trv1-pos_undersampling_C.xml')\n",
        "training_df_oversampling_A.to_xml(output_training_oversamplingA_file_name)\n",
        "training_df_oversampling_B.to_xml(output_training_oversamplingB_file_name)\n",
        "#training_df_oversampling_C.to_xml('assin-trv1-pos_oversampling_C.xml')"
      ],
      "metadata": {
        "id": "Tsisj1DGXUUj"
      },
      "execution_count": null,
      "outputs": []
    },
    {
      "cell_type": "code",
      "source": [
        "training_df.to_xml(output_training_file_name)\n",
        "testing_df.to_xml(output_testing_file_name )\n"
      ],
      "metadata": {
        "id": "z77EAYEBl6gI"
      },
      "execution_count": null,
      "outputs": []
    }
  ]
}